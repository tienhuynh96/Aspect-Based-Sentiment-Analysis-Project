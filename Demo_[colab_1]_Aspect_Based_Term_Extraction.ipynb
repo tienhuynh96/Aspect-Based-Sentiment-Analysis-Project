{
  "nbformat": 4,
  "nbformat_minor": 0,
  "metadata": {
    "colab": {
      "provenance": [],
      "toc_visible": true,
      "gpuType": "T4",
      "include_colab_link": true
    },
    "kernelspec": {
      "name": "python3",
      "display_name": "Python 3"
    },
    "language_info": {
      "name": "python"
    },
    "widgets": {
      "application/vnd.jupyter.widget-state+json": {
        "615fe7d970ef46efa5b5eddd6290fa3a": {
          "model_module": "@jupyter-widgets/controls",
          "model_name": "HBoxModel",
          "model_module_version": "1.5.0",
          "state": {
            "_dom_classes": [],
            "_model_module": "@jupyter-widgets/controls",
            "_model_module_version": "1.5.0",
            "_model_name": "HBoxModel",
            "_view_count": null,
            "_view_module": "@jupyter-widgets/controls",
            "_view_module_version": "1.5.0",
            "_view_name": "HBoxView",
            "box_style": "",
            "children": [
              "IPY_MODEL_7fe4778917a64c1ab1e2abfea65f681a",
              "IPY_MODEL_77681226604a4c94a36c526a3678064f",
              "IPY_MODEL_92426de75ed14a2cab8cc65d33a163f8"
            ],
            "layout": "IPY_MODEL_6ffaa6b4ae7d4d7786852ce38d645d5e"
          }
        },
        "7fe4778917a64c1ab1e2abfea65f681a": {
          "model_module": "@jupyter-widgets/controls",
          "model_name": "HTMLModel",
          "model_module_version": "1.5.0",
          "state": {
            "_dom_classes": [],
            "_model_module": "@jupyter-widgets/controls",
            "_model_module_version": "1.5.0",
            "_model_name": "HTMLModel",
            "_view_count": null,
            "_view_module": "@jupyter-widgets/controls",
            "_view_module_version": "1.5.0",
            "_view_name": "HTMLView",
            "description": "",
            "description_tooltip": null,
            "layout": "IPY_MODEL_b7d3a23177814758a578c53683bbdb40",
            "placeholder": "​",
            "style": "IPY_MODEL_40deff6b060e48d7868f2510b2a26e1b",
            "value": "tokenizer_config.json: 100%"
          }
        },
        "77681226604a4c94a36c526a3678064f": {
          "model_module": "@jupyter-widgets/controls",
          "model_name": "FloatProgressModel",
          "model_module_version": "1.5.0",
          "state": {
            "_dom_classes": [],
            "_model_module": "@jupyter-widgets/controls",
            "_model_module_version": "1.5.0",
            "_model_name": "FloatProgressModel",
            "_view_count": null,
            "_view_module": "@jupyter-widgets/controls",
            "_view_module_version": "1.5.0",
            "_view_name": "ProgressView",
            "bar_style": "success",
            "description": "",
            "description_tooltip": null,
            "layout": "IPY_MODEL_c2f6f3fc960d408184d0e13b455e6819",
            "max": 48,
            "min": 0,
            "orientation": "horizontal",
            "style": "IPY_MODEL_8397da2bafb64d49a8b925809df95b7b",
            "value": 48
          }
        },
        "92426de75ed14a2cab8cc65d33a163f8": {
          "model_module": "@jupyter-widgets/controls",
          "model_name": "HTMLModel",
          "model_module_version": "1.5.0",
          "state": {
            "_dom_classes": [],
            "_model_module": "@jupyter-widgets/controls",
            "_model_module_version": "1.5.0",
            "_model_name": "HTMLModel",
            "_view_count": null,
            "_view_module": "@jupyter-widgets/controls",
            "_view_module_version": "1.5.0",
            "_view_name": "HTMLView",
            "description": "",
            "description_tooltip": null,
            "layout": "IPY_MODEL_68ac54df44b64ba8be6bc6fca918afbb",
            "placeholder": "​",
            "style": "IPY_MODEL_a6581612cef04801831bae432d879cdc",
            "value": " 48.0/48.0 [00:00&lt;00:00, 2.34kB/s]"
          }
        },
        "6ffaa6b4ae7d4d7786852ce38d645d5e": {
          "model_module": "@jupyter-widgets/base",
          "model_name": "LayoutModel",
          "model_module_version": "1.2.0",
          "state": {
            "_model_module": "@jupyter-widgets/base",
            "_model_module_version": "1.2.0",
            "_model_name": "LayoutModel",
            "_view_count": null,
            "_view_module": "@jupyter-widgets/base",
            "_view_module_version": "1.2.0",
            "_view_name": "LayoutView",
            "align_content": null,
            "align_items": null,
            "align_self": null,
            "border": null,
            "bottom": null,
            "display": null,
            "flex": null,
            "flex_flow": null,
            "grid_area": null,
            "grid_auto_columns": null,
            "grid_auto_flow": null,
            "grid_auto_rows": null,
            "grid_column": null,
            "grid_gap": null,
            "grid_row": null,
            "grid_template_areas": null,
            "grid_template_columns": null,
            "grid_template_rows": null,
            "height": null,
            "justify_content": null,
            "justify_items": null,
            "left": null,
            "margin": null,
            "max_height": null,
            "max_width": null,
            "min_height": null,
            "min_width": null,
            "object_fit": null,
            "object_position": null,
            "order": null,
            "overflow": null,
            "overflow_x": null,
            "overflow_y": null,
            "padding": null,
            "right": null,
            "top": null,
            "visibility": null,
            "width": null
          }
        },
        "b7d3a23177814758a578c53683bbdb40": {
          "model_module": "@jupyter-widgets/base",
          "model_name": "LayoutModel",
          "model_module_version": "1.2.0",
          "state": {
            "_model_module": "@jupyter-widgets/base",
            "_model_module_version": "1.2.0",
            "_model_name": "LayoutModel",
            "_view_count": null,
            "_view_module": "@jupyter-widgets/base",
            "_view_module_version": "1.2.0",
            "_view_name": "LayoutView",
            "align_content": null,
            "align_items": null,
            "align_self": null,
            "border": null,
            "bottom": null,
            "display": null,
            "flex": null,
            "flex_flow": null,
            "grid_area": null,
            "grid_auto_columns": null,
            "grid_auto_flow": null,
            "grid_auto_rows": null,
            "grid_column": null,
            "grid_gap": null,
            "grid_row": null,
            "grid_template_areas": null,
            "grid_template_columns": null,
            "grid_template_rows": null,
            "height": null,
            "justify_content": null,
            "justify_items": null,
            "left": null,
            "margin": null,
            "max_height": null,
            "max_width": null,
            "min_height": null,
            "min_width": null,
            "object_fit": null,
            "object_position": null,
            "order": null,
            "overflow": null,
            "overflow_x": null,
            "overflow_y": null,
            "padding": null,
            "right": null,
            "top": null,
            "visibility": null,
            "width": null
          }
        },
        "40deff6b060e48d7868f2510b2a26e1b": {
          "model_module": "@jupyter-widgets/controls",
          "model_name": "DescriptionStyleModel",
          "model_module_version": "1.5.0",
          "state": {
            "_model_module": "@jupyter-widgets/controls",
            "_model_module_version": "1.5.0",
            "_model_name": "DescriptionStyleModel",
            "_view_count": null,
            "_view_module": "@jupyter-widgets/base",
            "_view_module_version": "1.2.0",
            "_view_name": "StyleView",
            "description_width": ""
          }
        },
        "c2f6f3fc960d408184d0e13b455e6819": {
          "model_module": "@jupyter-widgets/base",
          "model_name": "LayoutModel",
          "model_module_version": "1.2.0",
          "state": {
            "_model_module": "@jupyter-widgets/base",
            "_model_module_version": "1.2.0",
            "_model_name": "LayoutModel",
            "_view_count": null,
            "_view_module": "@jupyter-widgets/base",
            "_view_module_version": "1.2.0",
            "_view_name": "LayoutView",
            "align_content": null,
            "align_items": null,
            "align_self": null,
            "border": null,
            "bottom": null,
            "display": null,
            "flex": null,
            "flex_flow": null,
            "grid_area": null,
            "grid_auto_columns": null,
            "grid_auto_flow": null,
            "grid_auto_rows": null,
            "grid_column": null,
            "grid_gap": null,
            "grid_row": null,
            "grid_template_areas": null,
            "grid_template_columns": null,
            "grid_template_rows": null,
            "height": null,
            "justify_content": null,
            "justify_items": null,
            "left": null,
            "margin": null,
            "max_height": null,
            "max_width": null,
            "min_height": null,
            "min_width": null,
            "object_fit": null,
            "object_position": null,
            "order": null,
            "overflow": null,
            "overflow_x": null,
            "overflow_y": null,
            "padding": null,
            "right": null,
            "top": null,
            "visibility": null,
            "width": null
          }
        },
        "8397da2bafb64d49a8b925809df95b7b": {
          "model_module": "@jupyter-widgets/controls",
          "model_name": "ProgressStyleModel",
          "model_module_version": "1.5.0",
          "state": {
            "_model_module": "@jupyter-widgets/controls",
            "_model_module_version": "1.5.0",
            "_model_name": "ProgressStyleModel",
            "_view_count": null,
            "_view_module": "@jupyter-widgets/base",
            "_view_module_version": "1.2.0",
            "_view_name": "StyleView",
            "bar_color": null,
            "description_width": ""
          }
        },
        "68ac54df44b64ba8be6bc6fca918afbb": {
          "model_module": "@jupyter-widgets/base",
          "model_name": "LayoutModel",
          "model_module_version": "1.2.0",
          "state": {
            "_model_module": "@jupyter-widgets/base",
            "_model_module_version": "1.2.0",
            "_model_name": "LayoutModel",
            "_view_count": null,
            "_view_module": "@jupyter-widgets/base",
            "_view_module_version": "1.2.0",
            "_view_name": "LayoutView",
            "align_content": null,
            "align_items": null,
            "align_self": null,
            "border": null,
            "bottom": null,
            "display": null,
            "flex": null,
            "flex_flow": null,
            "grid_area": null,
            "grid_auto_columns": null,
            "grid_auto_flow": null,
            "grid_auto_rows": null,
            "grid_column": null,
            "grid_gap": null,
            "grid_row": null,
            "grid_template_areas": null,
            "grid_template_columns": null,
            "grid_template_rows": null,
            "height": null,
            "justify_content": null,
            "justify_items": null,
            "left": null,
            "margin": null,
            "max_height": null,
            "max_width": null,
            "min_height": null,
            "min_width": null,
            "object_fit": null,
            "object_position": null,
            "order": null,
            "overflow": null,
            "overflow_x": null,
            "overflow_y": null,
            "padding": null,
            "right": null,
            "top": null,
            "visibility": null,
            "width": null
          }
        },
        "a6581612cef04801831bae432d879cdc": {
          "model_module": "@jupyter-widgets/controls",
          "model_name": "DescriptionStyleModel",
          "model_module_version": "1.5.0",
          "state": {
            "_model_module": "@jupyter-widgets/controls",
            "_model_module_version": "1.5.0",
            "_model_name": "DescriptionStyleModel",
            "_view_count": null,
            "_view_module": "@jupyter-widgets/base",
            "_view_module_version": "1.2.0",
            "_view_name": "StyleView",
            "description_width": ""
          }
        },
        "9c81e715450b4b9ca29fd5b76c24e745": {
          "model_module": "@jupyter-widgets/controls",
          "model_name": "HBoxModel",
          "model_module_version": "1.5.0",
          "state": {
            "_dom_classes": [],
            "_model_module": "@jupyter-widgets/controls",
            "_model_module_version": "1.5.0",
            "_model_name": "HBoxModel",
            "_view_count": null,
            "_view_module": "@jupyter-widgets/controls",
            "_view_module_version": "1.5.0",
            "_view_name": "HBoxView",
            "box_style": "",
            "children": [
              "IPY_MODEL_9273ed3cfc1043b3b02452ba4579fef7",
              "IPY_MODEL_b998838d15544368989c63f4f0d3613f",
              "IPY_MODEL_bdf4fce94eb844ada74d4f20e07de379"
            ],
            "layout": "IPY_MODEL_12eb54b58ef14b2a8c942643313987d4"
          }
        },
        "9273ed3cfc1043b3b02452ba4579fef7": {
          "model_module": "@jupyter-widgets/controls",
          "model_name": "HTMLModel",
          "model_module_version": "1.5.0",
          "state": {
            "_dom_classes": [],
            "_model_module": "@jupyter-widgets/controls",
            "_model_module_version": "1.5.0",
            "_model_name": "HTMLModel",
            "_view_count": null,
            "_view_module": "@jupyter-widgets/controls",
            "_view_module_version": "1.5.0",
            "_view_name": "HTMLView",
            "description": "",
            "description_tooltip": null,
            "layout": "IPY_MODEL_c8e59e223e1243918e3b3de22e9f1536",
            "placeholder": "​",
            "style": "IPY_MODEL_f08196c9a0e04633b4375237c8ace8be",
            "value": "vocab.txt: 100%"
          }
        },
        "b998838d15544368989c63f4f0d3613f": {
          "model_module": "@jupyter-widgets/controls",
          "model_name": "FloatProgressModel",
          "model_module_version": "1.5.0",
          "state": {
            "_dom_classes": [],
            "_model_module": "@jupyter-widgets/controls",
            "_model_module_version": "1.5.0",
            "_model_name": "FloatProgressModel",
            "_view_count": null,
            "_view_module": "@jupyter-widgets/controls",
            "_view_module_version": "1.5.0",
            "_view_name": "ProgressView",
            "bar_style": "success",
            "description": "",
            "description_tooltip": null,
            "layout": "IPY_MODEL_0a67f64c369642e7929d6714978cae04",
            "max": 231508,
            "min": 0,
            "orientation": "horizontal",
            "style": "IPY_MODEL_9cf7615146d14483be5f6f2598ea625a",
            "value": 231508
          }
        },
        "bdf4fce94eb844ada74d4f20e07de379": {
          "model_module": "@jupyter-widgets/controls",
          "model_name": "HTMLModel",
          "model_module_version": "1.5.0",
          "state": {
            "_dom_classes": [],
            "_model_module": "@jupyter-widgets/controls",
            "_model_module_version": "1.5.0",
            "_model_name": "HTMLModel",
            "_view_count": null,
            "_view_module": "@jupyter-widgets/controls",
            "_view_module_version": "1.5.0",
            "_view_name": "HTMLView",
            "description": "",
            "description_tooltip": null,
            "layout": "IPY_MODEL_177198886f34418095d70f88e8bae047",
            "placeholder": "​",
            "style": "IPY_MODEL_1b27d903255f4ae58ad231470699e9be",
            "value": " 232k/232k [00:00&lt;00:00, 1.39MB/s]"
          }
        },
        "12eb54b58ef14b2a8c942643313987d4": {
          "model_module": "@jupyter-widgets/base",
          "model_name": "LayoutModel",
          "model_module_version": "1.2.0",
          "state": {
            "_model_module": "@jupyter-widgets/base",
            "_model_module_version": "1.2.0",
            "_model_name": "LayoutModel",
            "_view_count": null,
            "_view_module": "@jupyter-widgets/base",
            "_view_module_version": "1.2.0",
            "_view_name": "LayoutView",
            "align_content": null,
            "align_items": null,
            "align_self": null,
            "border": null,
            "bottom": null,
            "display": null,
            "flex": null,
            "flex_flow": null,
            "grid_area": null,
            "grid_auto_columns": null,
            "grid_auto_flow": null,
            "grid_auto_rows": null,
            "grid_column": null,
            "grid_gap": null,
            "grid_row": null,
            "grid_template_areas": null,
            "grid_template_columns": null,
            "grid_template_rows": null,
            "height": null,
            "justify_content": null,
            "justify_items": null,
            "left": null,
            "margin": null,
            "max_height": null,
            "max_width": null,
            "min_height": null,
            "min_width": null,
            "object_fit": null,
            "object_position": null,
            "order": null,
            "overflow": null,
            "overflow_x": null,
            "overflow_y": null,
            "padding": null,
            "right": null,
            "top": null,
            "visibility": null,
            "width": null
          }
        },
        "c8e59e223e1243918e3b3de22e9f1536": {
          "model_module": "@jupyter-widgets/base",
          "model_name": "LayoutModel",
          "model_module_version": "1.2.0",
          "state": {
            "_model_module": "@jupyter-widgets/base",
            "_model_module_version": "1.2.0",
            "_model_name": "LayoutModel",
            "_view_count": null,
            "_view_module": "@jupyter-widgets/base",
            "_view_module_version": "1.2.0",
            "_view_name": "LayoutView",
            "align_content": null,
            "align_items": null,
            "align_self": null,
            "border": null,
            "bottom": null,
            "display": null,
            "flex": null,
            "flex_flow": null,
            "grid_area": null,
            "grid_auto_columns": null,
            "grid_auto_flow": null,
            "grid_auto_rows": null,
            "grid_column": null,
            "grid_gap": null,
            "grid_row": null,
            "grid_template_areas": null,
            "grid_template_columns": null,
            "grid_template_rows": null,
            "height": null,
            "justify_content": null,
            "justify_items": null,
            "left": null,
            "margin": null,
            "max_height": null,
            "max_width": null,
            "min_height": null,
            "min_width": null,
            "object_fit": null,
            "object_position": null,
            "order": null,
            "overflow": null,
            "overflow_x": null,
            "overflow_y": null,
            "padding": null,
            "right": null,
            "top": null,
            "visibility": null,
            "width": null
          }
        },
        "f08196c9a0e04633b4375237c8ace8be": {
          "model_module": "@jupyter-widgets/controls",
          "model_name": "DescriptionStyleModel",
          "model_module_version": "1.5.0",
          "state": {
            "_model_module": "@jupyter-widgets/controls",
            "_model_module_version": "1.5.0",
            "_model_name": "DescriptionStyleModel",
            "_view_count": null,
            "_view_module": "@jupyter-widgets/base",
            "_view_module_version": "1.2.0",
            "_view_name": "StyleView",
            "description_width": ""
          }
        },
        "0a67f64c369642e7929d6714978cae04": {
          "model_module": "@jupyter-widgets/base",
          "model_name": "LayoutModel",
          "model_module_version": "1.2.0",
          "state": {
            "_model_module": "@jupyter-widgets/base",
            "_model_module_version": "1.2.0",
            "_model_name": "LayoutModel",
            "_view_count": null,
            "_view_module": "@jupyter-widgets/base",
            "_view_module_version": "1.2.0",
            "_view_name": "LayoutView",
            "align_content": null,
            "align_items": null,
            "align_self": null,
            "border": null,
            "bottom": null,
            "display": null,
            "flex": null,
            "flex_flow": null,
            "grid_area": null,
            "grid_auto_columns": null,
            "grid_auto_flow": null,
            "grid_auto_rows": null,
            "grid_column": null,
            "grid_gap": null,
            "grid_row": null,
            "grid_template_areas": null,
            "grid_template_columns": null,
            "grid_template_rows": null,
            "height": null,
            "justify_content": null,
            "justify_items": null,
            "left": null,
            "margin": null,
            "max_height": null,
            "max_width": null,
            "min_height": null,
            "min_width": null,
            "object_fit": null,
            "object_position": null,
            "order": null,
            "overflow": null,
            "overflow_x": null,
            "overflow_y": null,
            "padding": null,
            "right": null,
            "top": null,
            "visibility": null,
            "width": null
          }
        },
        "9cf7615146d14483be5f6f2598ea625a": {
          "model_module": "@jupyter-widgets/controls",
          "model_name": "ProgressStyleModel",
          "model_module_version": "1.5.0",
          "state": {
            "_model_module": "@jupyter-widgets/controls",
            "_model_module_version": "1.5.0",
            "_model_name": "ProgressStyleModel",
            "_view_count": null,
            "_view_module": "@jupyter-widgets/base",
            "_view_module_version": "1.2.0",
            "_view_name": "StyleView",
            "bar_color": null,
            "description_width": ""
          }
        },
        "177198886f34418095d70f88e8bae047": {
          "model_module": "@jupyter-widgets/base",
          "model_name": "LayoutModel",
          "model_module_version": "1.2.0",
          "state": {
            "_model_module": "@jupyter-widgets/base",
            "_model_module_version": "1.2.0",
            "_model_name": "LayoutModel",
            "_view_count": null,
            "_view_module": "@jupyter-widgets/base",
            "_view_module_version": "1.2.0",
            "_view_name": "LayoutView",
            "align_content": null,
            "align_items": null,
            "align_self": null,
            "border": null,
            "bottom": null,
            "display": null,
            "flex": null,
            "flex_flow": null,
            "grid_area": null,
            "grid_auto_columns": null,
            "grid_auto_flow": null,
            "grid_auto_rows": null,
            "grid_column": null,
            "grid_gap": null,
            "grid_row": null,
            "grid_template_areas": null,
            "grid_template_columns": null,
            "grid_template_rows": null,
            "height": null,
            "justify_content": null,
            "justify_items": null,
            "left": null,
            "margin": null,
            "max_height": null,
            "max_width": null,
            "min_height": null,
            "min_width": null,
            "object_fit": null,
            "object_position": null,
            "order": null,
            "overflow": null,
            "overflow_x": null,
            "overflow_y": null,
            "padding": null,
            "right": null,
            "top": null,
            "visibility": null,
            "width": null
          }
        },
        "1b27d903255f4ae58ad231470699e9be": {
          "model_module": "@jupyter-widgets/controls",
          "model_name": "DescriptionStyleModel",
          "model_module_version": "1.5.0",
          "state": {
            "_model_module": "@jupyter-widgets/controls",
            "_model_module_version": "1.5.0",
            "_model_name": "DescriptionStyleModel",
            "_view_count": null,
            "_view_module": "@jupyter-widgets/base",
            "_view_module_version": "1.2.0",
            "_view_name": "StyleView",
            "description_width": ""
          }
        },
        "de2480e074344d499e680b30c9f1266b": {
          "model_module": "@jupyter-widgets/controls",
          "model_name": "HBoxModel",
          "model_module_version": "1.5.0",
          "state": {
            "_dom_classes": [],
            "_model_module": "@jupyter-widgets/controls",
            "_model_module_version": "1.5.0",
            "_model_name": "HBoxModel",
            "_view_count": null,
            "_view_module": "@jupyter-widgets/controls",
            "_view_module_version": "1.5.0",
            "_view_name": "HBoxView",
            "box_style": "",
            "children": [
              "IPY_MODEL_0e696103cf4349fc8a28f617589e3fe1",
              "IPY_MODEL_322958b4cbb546e28c262ac362722244",
              "IPY_MODEL_170db84b5a1c4c859daa585daaeb4ab5"
            ],
            "layout": "IPY_MODEL_a1d849faac964c1d86a08f0698d390ce"
          }
        },
        "0e696103cf4349fc8a28f617589e3fe1": {
          "model_module": "@jupyter-widgets/controls",
          "model_name": "HTMLModel",
          "model_module_version": "1.5.0",
          "state": {
            "_dom_classes": [],
            "_model_module": "@jupyter-widgets/controls",
            "_model_module_version": "1.5.0",
            "_model_name": "HTMLModel",
            "_view_count": null,
            "_view_module": "@jupyter-widgets/controls",
            "_view_module_version": "1.5.0",
            "_view_name": "HTMLView",
            "description": "",
            "description_tooltip": null,
            "layout": "IPY_MODEL_40dd7f80f5a74516867d0743852d0b10",
            "placeholder": "​",
            "style": "IPY_MODEL_785add208d3141bbb4f78645dfdf9d75",
            "value": "tokenizer.json: 100%"
          }
        },
        "322958b4cbb546e28c262ac362722244": {
          "model_module": "@jupyter-widgets/controls",
          "model_name": "FloatProgressModel",
          "model_module_version": "1.5.0",
          "state": {
            "_dom_classes": [],
            "_model_module": "@jupyter-widgets/controls",
            "_model_module_version": "1.5.0",
            "_model_name": "FloatProgressModel",
            "_view_count": null,
            "_view_module": "@jupyter-widgets/controls",
            "_view_module_version": "1.5.0",
            "_view_name": "ProgressView",
            "bar_style": "success",
            "description": "",
            "description_tooltip": null,
            "layout": "IPY_MODEL_923006bdb08f4f94bee9e87f4a69232e",
            "max": 466062,
            "min": 0,
            "orientation": "horizontal",
            "style": "IPY_MODEL_805f28fe42574c03ad10b0f8ba4e4c50",
            "value": 466062
          }
        },
        "170db84b5a1c4c859daa585daaeb4ab5": {
          "model_module": "@jupyter-widgets/controls",
          "model_name": "HTMLModel",
          "model_module_version": "1.5.0",
          "state": {
            "_dom_classes": [],
            "_model_module": "@jupyter-widgets/controls",
            "_model_module_version": "1.5.0",
            "_model_name": "HTMLModel",
            "_view_count": null,
            "_view_module": "@jupyter-widgets/controls",
            "_view_module_version": "1.5.0",
            "_view_name": "HTMLView",
            "description": "",
            "description_tooltip": null,
            "layout": "IPY_MODEL_817339aa03364e179b5e5be6124e59cc",
            "placeholder": "​",
            "style": "IPY_MODEL_10ba2ddf237048a1a7956f9ccb3b0705",
            "value": " 466k/466k [00:00&lt;00:00, 6.71MB/s]"
          }
        },
        "a1d849faac964c1d86a08f0698d390ce": {
          "model_module": "@jupyter-widgets/base",
          "model_name": "LayoutModel",
          "model_module_version": "1.2.0",
          "state": {
            "_model_module": "@jupyter-widgets/base",
            "_model_module_version": "1.2.0",
            "_model_name": "LayoutModel",
            "_view_count": null,
            "_view_module": "@jupyter-widgets/base",
            "_view_module_version": "1.2.0",
            "_view_name": "LayoutView",
            "align_content": null,
            "align_items": null,
            "align_self": null,
            "border": null,
            "bottom": null,
            "display": null,
            "flex": null,
            "flex_flow": null,
            "grid_area": null,
            "grid_auto_columns": null,
            "grid_auto_flow": null,
            "grid_auto_rows": null,
            "grid_column": null,
            "grid_gap": null,
            "grid_row": null,
            "grid_template_areas": null,
            "grid_template_columns": null,
            "grid_template_rows": null,
            "height": null,
            "justify_content": null,
            "justify_items": null,
            "left": null,
            "margin": null,
            "max_height": null,
            "max_width": null,
            "min_height": null,
            "min_width": null,
            "object_fit": null,
            "object_position": null,
            "order": null,
            "overflow": null,
            "overflow_x": null,
            "overflow_y": null,
            "padding": null,
            "right": null,
            "top": null,
            "visibility": null,
            "width": null
          }
        },
        "40dd7f80f5a74516867d0743852d0b10": {
          "model_module": "@jupyter-widgets/base",
          "model_name": "LayoutModel",
          "model_module_version": "1.2.0",
          "state": {
            "_model_module": "@jupyter-widgets/base",
            "_model_module_version": "1.2.0",
            "_model_name": "LayoutModel",
            "_view_count": null,
            "_view_module": "@jupyter-widgets/base",
            "_view_module_version": "1.2.0",
            "_view_name": "LayoutView",
            "align_content": null,
            "align_items": null,
            "align_self": null,
            "border": null,
            "bottom": null,
            "display": null,
            "flex": null,
            "flex_flow": null,
            "grid_area": null,
            "grid_auto_columns": null,
            "grid_auto_flow": null,
            "grid_auto_rows": null,
            "grid_column": null,
            "grid_gap": null,
            "grid_row": null,
            "grid_template_areas": null,
            "grid_template_columns": null,
            "grid_template_rows": null,
            "height": null,
            "justify_content": null,
            "justify_items": null,
            "left": null,
            "margin": null,
            "max_height": null,
            "max_width": null,
            "min_height": null,
            "min_width": null,
            "object_fit": null,
            "object_position": null,
            "order": null,
            "overflow": null,
            "overflow_x": null,
            "overflow_y": null,
            "padding": null,
            "right": null,
            "top": null,
            "visibility": null,
            "width": null
          }
        },
        "785add208d3141bbb4f78645dfdf9d75": {
          "model_module": "@jupyter-widgets/controls",
          "model_name": "DescriptionStyleModel",
          "model_module_version": "1.5.0",
          "state": {
            "_model_module": "@jupyter-widgets/controls",
            "_model_module_version": "1.5.0",
            "_model_name": "DescriptionStyleModel",
            "_view_count": null,
            "_view_module": "@jupyter-widgets/base",
            "_view_module_version": "1.2.0",
            "_view_name": "StyleView",
            "description_width": ""
          }
        },
        "923006bdb08f4f94bee9e87f4a69232e": {
          "model_module": "@jupyter-widgets/base",
          "model_name": "LayoutModel",
          "model_module_version": "1.2.0",
          "state": {
            "_model_module": "@jupyter-widgets/base",
            "_model_module_version": "1.2.0",
            "_model_name": "LayoutModel",
            "_view_count": null,
            "_view_module": "@jupyter-widgets/base",
            "_view_module_version": "1.2.0",
            "_view_name": "LayoutView",
            "align_content": null,
            "align_items": null,
            "align_self": null,
            "border": null,
            "bottom": null,
            "display": null,
            "flex": null,
            "flex_flow": null,
            "grid_area": null,
            "grid_auto_columns": null,
            "grid_auto_flow": null,
            "grid_auto_rows": null,
            "grid_column": null,
            "grid_gap": null,
            "grid_row": null,
            "grid_template_areas": null,
            "grid_template_columns": null,
            "grid_template_rows": null,
            "height": null,
            "justify_content": null,
            "justify_items": null,
            "left": null,
            "margin": null,
            "max_height": null,
            "max_width": null,
            "min_height": null,
            "min_width": null,
            "object_fit": null,
            "object_position": null,
            "order": null,
            "overflow": null,
            "overflow_x": null,
            "overflow_y": null,
            "padding": null,
            "right": null,
            "top": null,
            "visibility": null,
            "width": null
          }
        },
        "805f28fe42574c03ad10b0f8ba4e4c50": {
          "model_module": "@jupyter-widgets/controls",
          "model_name": "ProgressStyleModel",
          "model_module_version": "1.5.0",
          "state": {
            "_model_module": "@jupyter-widgets/controls",
            "_model_module_version": "1.5.0",
            "_model_name": "ProgressStyleModel",
            "_view_count": null,
            "_view_module": "@jupyter-widgets/base",
            "_view_module_version": "1.2.0",
            "_view_name": "StyleView",
            "bar_color": null,
            "description_width": ""
          }
        },
        "817339aa03364e179b5e5be6124e59cc": {
          "model_module": "@jupyter-widgets/base",
          "model_name": "LayoutModel",
          "model_module_version": "1.2.0",
          "state": {
            "_model_module": "@jupyter-widgets/base",
            "_model_module_version": "1.2.0",
            "_model_name": "LayoutModel",
            "_view_count": null,
            "_view_module": "@jupyter-widgets/base",
            "_view_module_version": "1.2.0",
            "_view_name": "LayoutView",
            "align_content": null,
            "align_items": null,
            "align_self": null,
            "border": null,
            "bottom": null,
            "display": null,
            "flex": null,
            "flex_flow": null,
            "grid_area": null,
            "grid_auto_columns": null,
            "grid_auto_flow": null,
            "grid_auto_rows": null,
            "grid_column": null,
            "grid_gap": null,
            "grid_row": null,
            "grid_template_areas": null,
            "grid_template_columns": null,
            "grid_template_rows": null,
            "height": null,
            "justify_content": null,
            "justify_items": null,
            "left": null,
            "margin": null,
            "max_height": null,
            "max_width": null,
            "min_height": null,
            "min_width": null,
            "object_fit": null,
            "object_position": null,
            "order": null,
            "overflow": null,
            "overflow_x": null,
            "overflow_y": null,
            "padding": null,
            "right": null,
            "top": null,
            "visibility": null,
            "width": null
          }
        },
        "10ba2ddf237048a1a7956f9ccb3b0705": {
          "model_module": "@jupyter-widgets/controls",
          "model_name": "DescriptionStyleModel",
          "model_module_version": "1.5.0",
          "state": {
            "_model_module": "@jupyter-widgets/controls",
            "_model_module_version": "1.5.0",
            "_model_name": "DescriptionStyleModel",
            "_view_count": null,
            "_view_module": "@jupyter-widgets/base",
            "_view_module_version": "1.2.0",
            "_view_name": "StyleView",
            "description_width": ""
          }
        },
        "0eb29778958c4562aa86c61a604552cf": {
          "model_module": "@jupyter-widgets/controls",
          "model_name": "HBoxModel",
          "model_module_version": "1.5.0",
          "state": {
            "_dom_classes": [],
            "_model_module": "@jupyter-widgets/controls",
            "_model_module_version": "1.5.0",
            "_model_name": "HBoxModel",
            "_view_count": null,
            "_view_module": "@jupyter-widgets/controls",
            "_view_module_version": "1.5.0",
            "_view_name": "HBoxView",
            "box_style": "",
            "children": [
              "IPY_MODEL_8bdc579caea842aa8b814401ab4ac33c",
              "IPY_MODEL_6f510db898044b1280e9a1dd582563b2",
              "IPY_MODEL_b24fa0d564d84ba4a67b8efc991895eb"
            ],
            "layout": "IPY_MODEL_5315dfb34abe432f80347850b319e5d5"
          }
        },
        "8bdc579caea842aa8b814401ab4ac33c": {
          "model_module": "@jupyter-widgets/controls",
          "model_name": "HTMLModel",
          "model_module_version": "1.5.0",
          "state": {
            "_dom_classes": [],
            "_model_module": "@jupyter-widgets/controls",
            "_model_module_version": "1.5.0",
            "_model_name": "HTMLModel",
            "_view_count": null,
            "_view_module": "@jupyter-widgets/controls",
            "_view_module_version": "1.5.0",
            "_view_name": "HTMLView",
            "description": "",
            "description_tooltip": null,
            "layout": "IPY_MODEL_75c3f777ed784ede825c1f5077257d31",
            "placeholder": "​",
            "style": "IPY_MODEL_5e0fd6b3f61d48279d944b8868c09a35",
            "value": "config.json: 100%"
          }
        },
        "6f510db898044b1280e9a1dd582563b2": {
          "model_module": "@jupyter-widgets/controls",
          "model_name": "FloatProgressModel",
          "model_module_version": "1.5.0",
          "state": {
            "_dom_classes": [],
            "_model_module": "@jupyter-widgets/controls",
            "_model_module_version": "1.5.0",
            "_model_name": "FloatProgressModel",
            "_view_count": null,
            "_view_module": "@jupyter-widgets/controls",
            "_view_module_version": "1.5.0",
            "_view_name": "ProgressView",
            "bar_style": "success",
            "description": "",
            "description_tooltip": null,
            "layout": "IPY_MODEL_ce9317a348294fb1ae4a8f9dda62553f",
            "max": 570,
            "min": 0,
            "orientation": "horizontal",
            "style": "IPY_MODEL_ee3773518cb046e3abd725fb7ad0048f",
            "value": 570
          }
        },
        "b24fa0d564d84ba4a67b8efc991895eb": {
          "model_module": "@jupyter-widgets/controls",
          "model_name": "HTMLModel",
          "model_module_version": "1.5.0",
          "state": {
            "_dom_classes": [],
            "_model_module": "@jupyter-widgets/controls",
            "_model_module_version": "1.5.0",
            "_model_name": "HTMLModel",
            "_view_count": null,
            "_view_module": "@jupyter-widgets/controls",
            "_view_module_version": "1.5.0",
            "_view_name": "HTMLView",
            "description": "",
            "description_tooltip": null,
            "layout": "IPY_MODEL_c776e5ec664744f79c747cff98d48488",
            "placeholder": "​",
            "style": "IPY_MODEL_da1989d5869543cd8ff929278a06b11b",
            "value": " 570/570 [00:00&lt;00:00, 14.0kB/s]"
          }
        },
        "5315dfb34abe432f80347850b319e5d5": {
          "model_module": "@jupyter-widgets/base",
          "model_name": "LayoutModel",
          "model_module_version": "1.2.0",
          "state": {
            "_model_module": "@jupyter-widgets/base",
            "_model_module_version": "1.2.0",
            "_model_name": "LayoutModel",
            "_view_count": null,
            "_view_module": "@jupyter-widgets/base",
            "_view_module_version": "1.2.0",
            "_view_name": "LayoutView",
            "align_content": null,
            "align_items": null,
            "align_self": null,
            "border": null,
            "bottom": null,
            "display": null,
            "flex": null,
            "flex_flow": null,
            "grid_area": null,
            "grid_auto_columns": null,
            "grid_auto_flow": null,
            "grid_auto_rows": null,
            "grid_column": null,
            "grid_gap": null,
            "grid_row": null,
            "grid_template_areas": null,
            "grid_template_columns": null,
            "grid_template_rows": null,
            "height": null,
            "justify_content": null,
            "justify_items": null,
            "left": null,
            "margin": null,
            "max_height": null,
            "max_width": null,
            "min_height": null,
            "min_width": null,
            "object_fit": null,
            "object_position": null,
            "order": null,
            "overflow": null,
            "overflow_x": null,
            "overflow_y": null,
            "padding": null,
            "right": null,
            "top": null,
            "visibility": null,
            "width": null
          }
        },
        "75c3f777ed784ede825c1f5077257d31": {
          "model_module": "@jupyter-widgets/base",
          "model_name": "LayoutModel",
          "model_module_version": "1.2.0",
          "state": {
            "_model_module": "@jupyter-widgets/base",
            "_model_module_version": "1.2.0",
            "_model_name": "LayoutModel",
            "_view_count": null,
            "_view_module": "@jupyter-widgets/base",
            "_view_module_version": "1.2.0",
            "_view_name": "LayoutView",
            "align_content": null,
            "align_items": null,
            "align_self": null,
            "border": null,
            "bottom": null,
            "display": null,
            "flex": null,
            "flex_flow": null,
            "grid_area": null,
            "grid_auto_columns": null,
            "grid_auto_flow": null,
            "grid_auto_rows": null,
            "grid_column": null,
            "grid_gap": null,
            "grid_row": null,
            "grid_template_areas": null,
            "grid_template_columns": null,
            "grid_template_rows": null,
            "height": null,
            "justify_content": null,
            "justify_items": null,
            "left": null,
            "margin": null,
            "max_height": null,
            "max_width": null,
            "min_height": null,
            "min_width": null,
            "object_fit": null,
            "object_position": null,
            "order": null,
            "overflow": null,
            "overflow_x": null,
            "overflow_y": null,
            "padding": null,
            "right": null,
            "top": null,
            "visibility": null,
            "width": null
          }
        },
        "5e0fd6b3f61d48279d944b8868c09a35": {
          "model_module": "@jupyter-widgets/controls",
          "model_name": "DescriptionStyleModel",
          "model_module_version": "1.5.0",
          "state": {
            "_model_module": "@jupyter-widgets/controls",
            "_model_module_version": "1.5.0",
            "_model_name": "DescriptionStyleModel",
            "_view_count": null,
            "_view_module": "@jupyter-widgets/base",
            "_view_module_version": "1.2.0",
            "_view_name": "StyleView",
            "description_width": ""
          }
        },
        "ce9317a348294fb1ae4a8f9dda62553f": {
          "model_module": "@jupyter-widgets/base",
          "model_name": "LayoutModel",
          "model_module_version": "1.2.0",
          "state": {
            "_model_module": "@jupyter-widgets/base",
            "_model_module_version": "1.2.0",
            "_model_name": "LayoutModel",
            "_view_count": null,
            "_view_module": "@jupyter-widgets/base",
            "_view_module_version": "1.2.0",
            "_view_name": "LayoutView",
            "align_content": null,
            "align_items": null,
            "align_self": null,
            "border": null,
            "bottom": null,
            "display": null,
            "flex": null,
            "flex_flow": null,
            "grid_area": null,
            "grid_auto_columns": null,
            "grid_auto_flow": null,
            "grid_auto_rows": null,
            "grid_column": null,
            "grid_gap": null,
            "grid_row": null,
            "grid_template_areas": null,
            "grid_template_columns": null,
            "grid_template_rows": null,
            "height": null,
            "justify_content": null,
            "justify_items": null,
            "left": null,
            "margin": null,
            "max_height": null,
            "max_width": null,
            "min_height": null,
            "min_width": null,
            "object_fit": null,
            "object_position": null,
            "order": null,
            "overflow": null,
            "overflow_x": null,
            "overflow_y": null,
            "padding": null,
            "right": null,
            "top": null,
            "visibility": null,
            "width": null
          }
        },
        "ee3773518cb046e3abd725fb7ad0048f": {
          "model_module": "@jupyter-widgets/controls",
          "model_name": "ProgressStyleModel",
          "model_module_version": "1.5.0",
          "state": {
            "_model_module": "@jupyter-widgets/controls",
            "_model_module_version": "1.5.0",
            "_model_name": "ProgressStyleModel",
            "_view_count": null,
            "_view_module": "@jupyter-widgets/base",
            "_view_module_version": "1.2.0",
            "_view_name": "StyleView",
            "bar_color": null,
            "description_width": ""
          }
        },
        "c776e5ec664744f79c747cff98d48488": {
          "model_module": "@jupyter-widgets/base",
          "model_name": "LayoutModel",
          "model_module_version": "1.2.0",
          "state": {
            "_model_module": "@jupyter-widgets/base",
            "_model_module_version": "1.2.0",
            "_model_name": "LayoutModel",
            "_view_count": null,
            "_view_module": "@jupyter-widgets/base",
            "_view_module_version": "1.2.0",
            "_view_name": "LayoutView",
            "align_content": null,
            "align_items": null,
            "align_self": null,
            "border": null,
            "bottom": null,
            "display": null,
            "flex": null,
            "flex_flow": null,
            "grid_area": null,
            "grid_auto_columns": null,
            "grid_auto_flow": null,
            "grid_auto_rows": null,
            "grid_column": null,
            "grid_gap": null,
            "grid_row": null,
            "grid_template_areas": null,
            "grid_template_columns": null,
            "grid_template_rows": null,
            "height": null,
            "justify_content": null,
            "justify_items": null,
            "left": null,
            "margin": null,
            "max_height": null,
            "max_width": null,
            "min_height": null,
            "min_width": null,
            "object_fit": null,
            "object_position": null,
            "order": null,
            "overflow": null,
            "overflow_x": null,
            "overflow_y": null,
            "padding": null,
            "right": null,
            "top": null,
            "visibility": null,
            "width": null
          }
        },
        "da1989d5869543cd8ff929278a06b11b": {
          "model_module": "@jupyter-widgets/controls",
          "model_name": "DescriptionStyleModel",
          "model_module_version": "1.5.0",
          "state": {
            "_model_module": "@jupyter-widgets/controls",
            "_model_module_version": "1.5.0",
            "_model_name": "DescriptionStyleModel",
            "_view_count": null,
            "_view_module": "@jupyter-widgets/base",
            "_view_module_version": "1.2.0",
            "_view_name": "StyleView",
            "description_width": ""
          }
        }
      }
    },
    "accelerator": "GPU"
  },
  "cells": [
    {
      "cell_type": "markdown",
      "metadata": {
        "id": "view-in-github",
        "colab_type": "text"
      },
      "source": [
        "<a href=\"https://colab.research.google.com/github/tienhuynh96/Aspect-Based-Sentiment-Analysis-Project/blob/main/Demo_%5Bcolab_1%5D_Aspect_Based_Term_Extraction.ipynb\" target=\"_parent\"><img src=\"https://colab.research.google.com/assets/colab-badge.svg\" alt=\"Open In Colab\"/></a>"
      ]
    },
    {
      "cell_type": "markdown",
      "source": [
        "# 1. Data preparation"
      ],
      "metadata": {
        "id": "sh66-rzj8HN4"
      }
    },
    {
      "cell_type": "markdown",
      "source": [
        "## 1.1 Download and load dataset"
      ],
      "metadata": {
        "id": "NB7SuRGvAPcn"
      }
    },
    {
      "cell_type": "code",
      "source": [
        "# Upgrade gdown => for download\n",
        "!pip install --upgrade gdown"
      ],
      "metadata": {
        "id": "PHGDHMdt57Ls",
        "colab": {
          "base_uri": "https://localhost:8080/"
        },
        "outputId": "084110a7-2db2-42d7-cc43-79d4d27e7fd4"
      },
      "execution_count": null,
      "outputs": [
        {
          "output_type": "stream",
          "name": "stdout",
          "text": [
            "Requirement already satisfied: gdown in /usr/local/lib/python3.10/dist-packages (5.1.0)\n",
            "Collecting gdown\n",
            "  Downloading gdown-5.2.0-py3-none-any.whl (18 kB)\n",
            "Requirement already satisfied: beautifulsoup4 in /usr/local/lib/python3.10/dist-packages (from gdown) (4.12.3)\n",
            "Requirement already satisfied: filelock in /usr/local/lib/python3.10/dist-packages (from gdown) (3.14.0)\n",
            "Requirement already satisfied: requests[socks] in /usr/local/lib/python3.10/dist-packages (from gdown) (2.31.0)\n",
            "Requirement already satisfied: tqdm in /usr/local/lib/python3.10/dist-packages (from gdown) (4.66.4)\n",
            "Requirement already satisfied: soupsieve>1.2 in /usr/local/lib/python3.10/dist-packages (from beautifulsoup4->gdown) (2.5)\n",
            "Requirement already satisfied: charset-normalizer<4,>=2 in /usr/local/lib/python3.10/dist-packages (from requests[socks]->gdown) (3.3.2)\n",
            "Requirement already satisfied: idna<4,>=2.5 in /usr/local/lib/python3.10/dist-packages (from requests[socks]->gdown) (3.7)\n",
            "Requirement already satisfied: urllib3<3,>=1.21.1 in /usr/local/lib/python3.10/dist-packages (from requests[socks]->gdown) (2.0.7)\n",
            "Requirement already satisfied: certifi>=2017.4.17 in /usr/local/lib/python3.10/dist-packages (from requests[socks]->gdown) (2024.2.2)\n",
            "Requirement already satisfied: PySocks!=1.5.7,>=1.5.6 in /usr/local/lib/python3.10/dist-packages (from requests[socks]->gdown) (1.7.1)\n",
            "Installing collected packages: gdown\n",
            "  Attempting uninstall: gdown\n",
            "    Found existing installation: gdown 5.1.0\n",
            "    Uninstalling gdown-5.1.0:\n",
            "      Successfully uninstalled gdown-5.1.0\n",
            "Successfully installed gdown-5.2.0\n"
          ]
        }
      ]
    },
    {
      "cell_type": "code",
      "execution_count": null,
      "metadata": {
        "colab": {
          "base_uri": "https://localhost:8080/"
        },
        "id": "QCm-Qniexs2d",
        "outputId": "71700fab-abe2-46a3-8955-760f7d6b1069"
      },
      "outputs": [
        {
          "output_type": "stream",
          "name": "stdout",
          "text": [
            "Downloading...\n",
            "From: https://drive.google.com/uc?id=1d7JABk4jViI-USjLsWmhGkvzi8uQIL5C\n",
            "To: /content/data.zip\n",
            "\r  0% 0.00/151k [00:00<?, ?B/s]\r100% 151k/151k [00:00<00:00, 83.3MB/s]\n"
          ]
        }
      ],
      "source": [
        "# Download dataset\n",
        "# Dataset is SemEval-2014 Task 4: Aspect Based Sentiment Analysis\n",
        "# Dataset is preprocessing include: remove punctuation, normalize and separate based on whitespace\n",
        "!gdown 1d7JABk4jViI-USjLsWmhGkvzi8uQIL5C"
      ]
    },
    {
      "cell_type": "code",
      "source": [
        "# Unzip dataset\n",
        "!unzip ./data.zip"
      ],
      "metadata": {
        "colab": {
          "base_uri": "https://localhost:8080/"
        },
        "id": "y3_qL8fu_5Ga",
        "outputId": "adecc603-c8ec-40d3-cf2c-3397f7ee0711"
      },
      "execution_count": null,
      "outputs": [
        {
          "output_type": "stream",
          "name": "stdout",
          "text": [
            "Archive:  ./data.zip\n",
            "   creating: data/\n",
            "  inflating: __MACOSX/._data         \n",
            "  inflating: data/restaurants_train.csv  \n",
            "  inflating: __MACOSX/data/._restaurants_train.csv  \n",
            "  inflating: data/restaurants_test.csv  \n",
            "  inflating: __MACOSX/data/._restaurants_test.csv  \n"
          ]
        }
      ]
    },
    {
      "cell_type": "code",
      "source": [
        "# Load dataset\n",
        "import pandas as pd\n",
        "\n",
        "# Load train dataset\n",
        "train_df = pd.read_csv('./data/restaurants_train.csv')\n",
        "# Load test dataset\n",
        "test_df = pd.read_csv('./data/restaurants_test.csv')"
      ],
      "metadata": {
        "id": "MzkTVO86_I--"
      },
      "execution_count": null,
      "outputs": []
    },
    {
      "cell_type": "code",
      "source": [
        "# Show a sample dataset\n",
        "train_df.iloc[0]"
      ],
      "metadata": {
        "id": "qYUIxBSn_We2",
        "colab": {
          "base_uri": "https://localhost:8080/"
        },
        "outputId": "4a02ef65-143a-46a0-ff5d-1ac355d9ffb4"
      },
      "execution_count": null,
      "outputs": [
        {
          "output_type": "execute_result",
          "data": {
            "text/plain": [
              "Tokens        ['But', 'the', 'staff', 'was', 'so', 'horrible...\n",
              "Tags                                [0, 0, 1, 0, 0, 0, 0, 0, 0]\n",
              "Polarities                  [-1, -1, 0, -1, -1, -1, -1, -1, -1]\n",
              "Name: 0, dtype: object"
            ]
          },
          "metadata": {},
          "execution_count": 5
        }
      ]
    },
    {
      "cell_type": "markdown",
      "source": [
        "## 1.2 Tokenization"
      ],
      "metadata": {
        "id": "QULF-kc-Qh_M"
      }
    },
    {
      "cell_type": "code",
      "source": [
        "# Tokenizer for sub-word\n",
        "# We try sub word in this project\n",
        "from transformers import BertTokenizer\n",
        "\n",
        "model_name = \"bert-base-uncased\"\n",
        "tokenizer = BertTokenizer.from_pretrained(model_name)"
      ],
      "metadata": {
        "colab": {
          "base_uri": "https://localhost:8080/",
          "height": 274,
          "referenced_widgets": [
            "615fe7d970ef46efa5b5eddd6290fa3a",
            "7fe4778917a64c1ab1e2abfea65f681a",
            "77681226604a4c94a36c526a3678064f",
            "92426de75ed14a2cab8cc65d33a163f8",
            "6ffaa6b4ae7d4d7786852ce38d645d5e",
            "b7d3a23177814758a578c53683bbdb40",
            "40deff6b060e48d7868f2510b2a26e1b",
            "c2f6f3fc960d408184d0e13b455e6819",
            "8397da2bafb64d49a8b925809df95b7b",
            "68ac54df44b64ba8be6bc6fca918afbb",
            "a6581612cef04801831bae432d879cdc",
            "9c81e715450b4b9ca29fd5b76c24e745",
            "9273ed3cfc1043b3b02452ba4579fef7",
            "b998838d15544368989c63f4f0d3613f",
            "bdf4fce94eb844ada74d4f20e07de379",
            "12eb54b58ef14b2a8c942643313987d4",
            "c8e59e223e1243918e3b3de22e9f1536",
            "f08196c9a0e04633b4375237c8ace8be",
            "0a67f64c369642e7929d6714978cae04",
            "9cf7615146d14483be5f6f2598ea625a",
            "177198886f34418095d70f88e8bae047",
            "1b27d903255f4ae58ad231470699e9be",
            "de2480e074344d499e680b30c9f1266b",
            "0e696103cf4349fc8a28f617589e3fe1",
            "322958b4cbb546e28c262ac362722244",
            "170db84b5a1c4c859daa585daaeb4ab5",
            "a1d849faac964c1d86a08f0698d390ce",
            "40dd7f80f5a74516867d0743852d0b10",
            "785add208d3141bbb4f78645dfdf9d75",
            "923006bdb08f4f94bee9e87f4a69232e",
            "805f28fe42574c03ad10b0f8ba4e4c50",
            "817339aa03364e179b5e5be6124e59cc",
            "10ba2ddf237048a1a7956f9ccb3b0705",
            "0eb29778958c4562aa86c61a604552cf",
            "8bdc579caea842aa8b814401ab4ac33c",
            "6f510db898044b1280e9a1dd582563b2",
            "b24fa0d564d84ba4a67b8efc991895eb",
            "5315dfb34abe432f80347850b319e5d5",
            "75c3f777ed784ede825c1f5077257d31",
            "5e0fd6b3f61d48279d944b8868c09a35",
            "ce9317a348294fb1ae4a8f9dda62553f",
            "ee3773518cb046e3abd725fb7ad0048f",
            "c776e5ec664744f79c747cff98d48488",
            "da1989d5869543cd8ff929278a06b11b"
          ]
        },
        "id": "ySeT6mUlQhot",
        "outputId": "f8c97067-1cd7-4b75-dc5f-98479dd46451"
      },
      "execution_count": null,
      "outputs": [
        {
          "output_type": "stream",
          "name": "stderr",
          "text": [
            "/usr/local/lib/python3.10/dist-packages/huggingface_hub/utils/_token.py:88: UserWarning: \n",
            "The secret `HF_TOKEN` does not exist in your Colab secrets.\n",
            "To authenticate with the Hugging Face Hub, create a token in your settings tab (https://huggingface.co/settings/tokens), set it as secret in your Google Colab and restart your session.\n",
            "You will be able to reuse this secret in all of your notebooks.\n",
            "Please note that authentication is recommended but still optional to access public models or datasets.\n",
            "  warnings.warn(\n"
          ]
        },
        {
          "output_type": "display_data",
          "data": {
            "text/plain": [
              "tokenizer_config.json:   0%|          | 0.00/48.0 [00:00<?, ?B/s]"
            ],
            "application/vnd.jupyter.widget-view+json": {
              "version_major": 2,
              "version_minor": 0,
              "model_id": "615fe7d970ef46efa5b5eddd6290fa3a"
            }
          },
          "metadata": {}
        },
        {
          "output_type": "display_data",
          "data": {
            "text/plain": [
              "vocab.txt:   0%|          | 0.00/232k [00:00<?, ?B/s]"
            ],
            "application/vnd.jupyter.widget-view+json": {
              "version_major": 2,
              "version_minor": 0,
              "model_id": "9c81e715450b4b9ca29fd5b76c24e745"
            }
          },
          "metadata": {}
        },
        {
          "output_type": "display_data",
          "data": {
            "text/plain": [
              "tokenizer.json:   0%|          | 0.00/466k [00:00<?, ?B/s]"
            ],
            "application/vnd.jupyter.widget-view+json": {
              "version_major": 2,
              "version_minor": 0,
              "model_id": "de2480e074344d499e680b30c9f1266b"
            }
          },
          "metadata": {}
        },
        {
          "output_type": "display_data",
          "data": {
            "text/plain": [
              "config.json:   0%|          | 0.00/570 [00:00<?, ?B/s]"
            ],
            "application/vnd.jupyter.widget-view+json": {
              "version_major": 2,
              "version_minor": 0,
              "model_id": "0eb29778958c4562aa86c61a604552cf"
            }
          },
          "metadata": {}
        }
      ]
    },
    {
      "cell_type": "code",
      "source": [
        "tokenizer.all_special_tokens"
      ],
      "metadata": {
        "colab": {
          "base_uri": "https://localhost:8080/"
        },
        "id": "JMfPEIHmR7oh",
        "outputId": "0469951b-0b3c-4d77-cf5c-ed1965edd91b"
      },
      "execution_count": null,
      "outputs": [
        {
          "output_type": "execute_result",
          "data": {
            "text/plain": [
              "['[UNK]', '[SEP]', '[PAD]', '[CLS]', '[MASK]']"
            ]
          },
          "metadata": {},
          "execution_count": 7
        }
      ]
    },
    {
      "cell_type": "code",
      "source": [
        "tokenizer.cls_token_id"
      ],
      "metadata": {
        "colab": {
          "base_uri": "https://localhost:8080/"
        },
        "id": "4AvPt2VtR9lN",
        "outputId": "2d585c0c-b2ee-4b4a-9669-9e0e3c165d1a"
      },
      "execution_count": null,
      "outputs": [
        {
          "output_type": "execute_result",
          "data": {
            "text/plain": [
              "101"
            ]
          },
          "metadata": {},
          "execution_count": 8
        }
      ]
    },
    {
      "cell_type": "code",
      "source": [
        "tokenizer.sep_token_id"
      ],
      "metadata": {
        "colab": {
          "base_uri": "https://localhost:8080/"
        },
        "id": "V01o9CX6SBgy",
        "outputId": "684628ad-e659-4750-c07f-e55dbf8409c8"
      },
      "execution_count": null,
      "outputs": [
        {
          "output_type": "execute_result",
          "data": {
            "text/plain": [
              "102"
            ]
          },
          "metadata": {},
          "execution_count": 9
        }
      ]
    },
    {
      "cell_type": "markdown",
      "source": [
        "## 1.3 Build Dataset"
      ],
      "metadata": {
        "id": "aZB6hIY1_GNV"
      }
    },
    {
      "cell_type": "code",
      "source": [
        "import torch\n",
        "# Customize data to train\n",
        "from torch.utils.data import Dataset\n",
        "\n",
        "# Defining a custome Dataset class for Aspect Based Sentiment Analysis (ABSA)\n",
        "class ABSADataset(Dataset):\n",
        "    # Input is dataframe and tokenizer\n",
        "    def __init__(self, df, tokenizer):\n",
        "        self.df = df\n",
        "        self.tokenizer = tokenizer\n",
        "\n",
        "    # Defining the method to retrieve a single item from the dataframe\n",
        "    def __getitem__(self, idx):\n",
        "        # Each item get: Tokens, Tags and Polarities\n",
        "        tokens, tags, pols = self.df.iloc[idx, :3].values\n",
        "\n",
        "        # tokens: Replace unnecesary character \"'\", strip \"][\" and split them by \", \"\n",
        "        tokens = tokens.replace(\"'\", \"\").strip(\"][\").split(', ')\n",
        "        # tags: strip \"][\" and split them by \", \"\n",
        "        tags = tags.strip('][').split(', ')\n",
        "        # pols: strip \"][\" and split them by \", \"\n",
        "        pols = pols.strip('][').split(', ')\n",
        "\n",
        "        # We use tokenizer for sub-word, so we need create 3 empty list for restore sub-word from tokens, tags, pols\n",
        "        bert_tokens = []\n",
        "        bert_tags = []\n",
        "        bert_pols = []\n",
        "\n",
        "        # Itorator for get all word in tokens\n",
        "        for i in range(len(tokens)):\n",
        "            # tokenize each tokens => sub word (sub token)\n",
        "            t = self.tokenizer.tokenize(tokens[i])\n",
        "            # Restore sub token in bert_tokens\n",
        "            bert_tokens += t\n",
        "            # Restore tags in bert_tags, \"*len(t)\" is for ensure the len of sub token equal len of tags\n",
        "            bert_tags += [int(tags[i])]*len(t)\n",
        "            # Restore pols in bert_pols, \"*len(t)\" is for ensure the len of sub token equal len of pols\n",
        "            bert_pols += [int(pols[i])]*len(t)\n",
        "\n",
        "        # Convert sub token to ids\n",
        "        bert_ids = self.tokenizer.convert_tokens_to_ids(bert_tokens)\n",
        "\n",
        "        # Convert to tensor type\n",
        "        ids_tensor = torch.tensor(bert_ids)\n",
        "        tags_tensor = torch.tensor(bert_tags)\n",
        "        pols_tensor = torch.tensor(bert_pols)\n",
        "\n",
        "        return bert_tokens, ids_tensor, tags_tensor, pols_tensor\n",
        "\n",
        "    # Defining the method to return the length of dataframe\n",
        "    def __len__(self):\n",
        "        return len(self.df)"
      ],
      "metadata": {
        "id": "8HQLZiFh_IZL"
      },
      "execution_count": null,
      "outputs": []
    },
    {
      "cell_type": "code",
      "source": [
        "# Build dataset\n",
        "train_ds = ABSADataset(train_df, tokenizer)\n",
        "test_ds = ABSADataset(test_df, tokenizer)"
      ],
      "metadata": {
        "id": "kdIrwC0AQ33o"
      },
      "execution_count": null,
      "outputs": []
    },
    {
      "cell_type": "code",
      "source": [
        "next(iter(train_ds))"
      ],
      "metadata": {
        "colab": {
          "base_uri": "https://localhost:8080/"
        },
        "id": "qvXL2CVvRTfY",
        "outputId": "f263b1d5-0700-4c35-d7e3-eee92ccaec7e"
      },
      "execution_count": null,
      "outputs": [
        {
          "output_type": "execute_result",
          "data": {
            "text/plain": [
              "(['but', 'the', 'staff', 'was', 'so', 'horrible', 'to', 'us'],\n",
              " tensor([2021, 1996, 3095, 2001, 2061, 9202, 2000, 2149]),\n",
              " tensor([0, 0, 1, 0, 0, 0, 0, 0]),\n",
              " tensor([-1, -1,  0, -1, -1, -1, -1, -1]))"
            ]
          },
          "metadata": {},
          "execution_count": 12
        }
      ]
    },
    {
      "cell_type": "markdown",
      "source": [
        "## 1.4 Dataloader"
      ],
      "metadata": {
        "id": "uuYsyI_rKMuV"
      }
    },
    {
      "cell_type": "code",
      "source": [
        "# Padding\n",
        "# Use pad_sequence in RNN, padding follow the highest len samples in dataset\n",
        "from torch.nn.utils.rnn import pad_sequence\n",
        "\n",
        "def padding(samples):\n",
        "    # get the token ids => s[1]\n",
        "    ids_tensors = [s[1] for s in samples]\n",
        "    ids_tensors = pad_sequence(ids_tensors, batch_first=True)\n",
        "\n",
        "    # get the tags => s[2]\n",
        "    tags_tensors = [s[2] for s in samples]\n",
        "    tags_tensors = pad_sequence(tags_tensors, batch_first=True)\n",
        "\n",
        "    # get the pols => s[3]\n",
        "    pols_tensors = [s[3] for s in samples]\n",
        "    pols_tensors = pad_sequence(pols_tensors, batch_first=True)\n",
        "\n",
        "    # Create mask, used for Bert\n",
        "    # Create zero matrix for mask\n",
        "    masks_tensors = torch.zeros(ids_tensors.shape, dtype=torch.long)\n",
        "    # Fill 1 if ids_tensors != 0\n",
        "    masks_tensors = masks_tensors.masked_fill(ids_tensors != 0, 1)\n",
        "\n",
        "    return ids_tensors, tags_tensors, pols_tensors, masks_tensors"
      ],
      "metadata": {
        "id": "4AOpY532RKHs"
      },
      "execution_count": null,
      "outputs": []
    },
    {
      "cell_type": "code",
      "source": [
        "# Build DataLoader\n",
        "from torch.utils.data import DataLoader\n",
        "\n",
        "batch_size = 32\n",
        "train_loader = DataLoader(\n",
        "    train_ds, batch_size=batch_size, shuffle=True, collate_fn=padding\n",
        ")\n",
        "test_loader = DataLoader(\n",
        "    test_ds, batch_size=batch_size, shuffle=True, collate_fn=padding\n",
        ")"
      ],
      "metadata": {
        "id": "VHh9q8FoRKAu"
      },
      "execution_count": null,
      "outputs": []
    },
    {
      "cell_type": "code",
      "source": [
        "next(iter(train_loader))"
      ],
      "metadata": {
        "colab": {
          "base_uri": "https://localhost:8080/"
        },
        "id": "Os0teTVaZI0U",
        "outputId": "9940a7fc-a31c-4cc3-fff0-50f7625d5262"
      },
      "execution_count": null,
      "outputs": [
        {
          "output_type": "execute_result",
          "data": {
            "text/plain": [
              "(tensor([[ 1996,  2326,  2001,  ...,     0,     0,     0],\n",
              "         [ 2096,  1996,  4707,  ...,     0,     0,     0],\n",
              "         [ 2151,  2065,  2017,  ...,     0,     0,     0],\n",
              "         ...,\n",
              "         [ 1996, 17688,  8694,  ...,     0,     0,     0],\n",
              "         [ 2305,  2302,  1037,  ...,     0,     0,     0],\n",
              "         [ 2093,  5352,  3601,  ...,     0,     0,     0]]),\n",
              " tensor([[0, 1, 0,  ..., 0, 0, 0],\n",
              "         [0, 0, 1,  ..., 0, 0, 0],\n",
              "         [0, 0, 0,  ..., 0, 0, 0],\n",
              "         ...,\n",
              "         [0, 1, 2,  ..., 0, 0, 0],\n",
              "         [0, 0, 0,  ..., 0, 0, 0],\n",
              "         [0, 1, 0,  ..., 0, 0, 0]]),\n",
              " tensor([[-1,  2, -1,  ...,  0,  0,  0],\n",
              "         [-1, -1, -1,  ...,  0,  0,  0],\n",
              "         [-1, -1, -1,  ...,  0,  0,  0],\n",
              "         ...,\n",
              "         [-1, -1, -1,  ...,  0,  0,  0],\n",
              "         [-1, -1, -1,  ...,  0,  0,  0],\n",
              "         [-1, -1, -1,  ...,  0,  0,  0]]),\n",
              " tensor([[1, 1, 1,  ..., 0, 0, 0],\n",
              "         [1, 1, 1,  ..., 0, 0, 0],\n",
              "         [1, 1, 1,  ..., 0, 0, 0],\n",
              "         ...,\n",
              "         [1, 1, 1,  ..., 0, 0, 0],\n",
              "         [1, 1, 1,  ..., 0, 0, 0],\n",
              "         [1, 1, 1,  ..., 0, 0, 0]]))"
            ]
          },
          "metadata": {},
          "execution_count": 15
        }
      ]
    },
    {
      "cell_type": "code",
      "source": [
        "next(iter(train_loader))[0].shape"
      ],
      "metadata": {
        "colab": {
          "base_uri": "https://localhost:8080/"
        },
        "id": "PxZqWbQeilxs",
        "outputId": "fb95c4d2-1c83-4a3a-c3a9-7c31d237f3e7"
      },
      "execution_count": null,
      "outputs": [
        {
          "output_type": "execute_result",
          "data": {
            "text/plain": [
              "torch.Size([32, 38])"
            ]
          },
          "metadata": {},
          "execution_count": 31
        }
      ]
    },
    {
      "cell_type": "markdown",
      "source": [
        "# 2. Model"
      ],
      "metadata": {
        "id": "R5KqNndiELIG"
      }
    },
    {
      "cell_type": "code",
      "source": [
        "from transformers import BertModel\n",
        "\n",
        "# Build model using Bert pretrain model.\n",
        "class ABTEBert(torch.nn.Module):\n",
        "    def __init__(self, model_name):\n",
        "        super(ABTEBert, self).__init__()\n",
        "        # Using Bert from pretrained model.\n",
        "        self.bert = BertModel.from_pretrained(model_name)\n",
        "        # linear: input is 768, output is 3 ( 0, 1, 2).\n",
        "        # self.bert.config.hidden_size is 768 in model.\n",
        "        self.linear = torch.nn.Linear(self.bert.config.hidden_size, 3)\n",
        "        # Use cross entropy for loss\n",
        "        self.loss_fn = torch.nn.CrossEntropyLoss()\n",
        "\n",
        "    # Build forward function\n",
        "    def forward(self, ids_tensors, masks_tensors, tags_tensors):\n",
        "        # Bert model ouput\n",
        "        # The return_dict=False parameter indicates that the output will be a tuple rather than a dictionary.\n",
        "        bert_outputs= self.bert(\n",
        "            input_ids=ids_tensors, attention_mask=masks_tensors, return_dict=False\n",
        "            )\n",
        "        # Selects the first element of the tuple, which typically represents the last hidden states of the BERT model for each input token.\n",
        "        bert_outputs = bert_outputs[0]\n",
        "\n",
        "        # Linear Layer Outputs:\n",
        "        linear_outputs = self.linear(bert_outputs)\n",
        "\n",
        "        # Loss Calculation and Output:\n",
        "        if tags_tensors is not None:\n",
        "            # Reshapes tags_tensors to a 1D tensor.\n",
        "            tags_tensors = tags_tensors.view(-1)\n",
        "            # Reshapes linear_outputs to have shape (-1, 3), where -1 infers the first dimension size and 3 is the number of tag classes.\n",
        "            linear_outputs_ = linear_outputs.view(-1,3)\n",
        "            # Compute loss\n",
        "            loss = self.loss_fn(linear_outputs_, tags_tensors)\n",
        "            return loss, linear_outputs\n",
        "        else:\n",
        "            return linear_outputs"
      ],
      "metadata": {
        "id": "YSePW5i2ENJU"
      },
      "execution_count": null,
      "outputs": []
    },
    {
      "cell_type": "code",
      "source": [
        "# Call model\n",
        "model = ABTEBert(model_name)"
      ],
      "metadata": {
        "id": "R6H-d06XEzRT"
      },
      "execution_count": null,
      "outputs": []
    },
    {
      "cell_type": "code",
      "source": [
        "# Set device\n",
        "device = torch.device(\"cuda\" if torch.cuda.is_available() else \"cpu\")\n",
        "device"
      ],
      "metadata": {
        "colab": {
          "base_uri": "https://localhost:8080/"
        },
        "id": "GuFp9jxhE2Av",
        "outputId": "07f6f0eb-f0b6-43aa-d29d-563073b4b03a"
      },
      "execution_count": null,
      "outputs": [
        {
          "output_type": "execute_result",
          "data": {
            "text/plain": [
              "device(type='cuda')"
            ]
          },
          "metadata": {},
          "execution_count": 34
        }
      ]
    },
    {
      "cell_type": "code",
      "source": [
        "# Put model to device\n",
        "model.to(device)"
      ],
      "metadata": {
        "colab": {
          "base_uri": "https://localhost:8080/"
        },
        "id": "S3YzgUr1FBlo",
        "outputId": "1aa409f4-1938-4727-ec8b-edd1de25a1ef"
      },
      "execution_count": null,
      "outputs": [
        {
          "output_type": "execute_result",
          "data": {
            "text/plain": [
              "ABTEBert(\n",
              "  (bert): BertModel(\n",
              "    (embeddings): BertEmbeddings(\n",
              "      (word_embeddings): Embedding(30522, 768, padding_idx=0)\n",
              "      (position_embeddings): Embedding(512, 768)\n",
              "      (token_type_embeddings): Embedding(2, 768)\n",
              "      (LayerNorm): LayerNorm((768,), eps=1e-12, elementwise_affine=True)\n",
              "      (dropout): Dropout(p=0.1, inplace=False)\n",
              "    )\n",
              "    (encoder): BertEncoder(\n",
              "      (layer): ModuleList(\n",
              "        (0-11): 12 x BertLayer(\n",
              "          (attention): BertAttention(\n",
              "            (self): BertSelfAttention(\n",
              "              (query): Linear(in_features=768, out_features=768, bias=True)\n",
              "              (key): Linear(in_features=768, out_features=768, bias=True)\n",
              "              (value): Linear(in_features=768, out_features=768, bias=True)\n",
              "              (dropout): Dropout(p=0.1, inplace=False)\n",
              "            )\n",
              "            (output): BertSelfOutput(\n",
              "              (dense): Linear(in_features=768, out_features=768, bias=True)\n",
              "              (LayerNorm): LayerNorm((768,), eps=1e-12, elementwise_affine=True)\n",
              "              (dropout): Dropout(p=0.1, inplace=False)\n",
              "            )\n",
              "          )\n",
              "          (intermediate): BertIntermediate(\n",
              "            (dense): Linear(in_features=768, out_features=3072, bias=True)\n",
              "            (intermediate_act_fn): GELUActivation()\n",
              "          )\n",
              "          (output): BertOutput(\n",
              "            (dense): Linear(in_features=3072, out_features=768, bias=True)\n",
              "            (LayerNorm): LayerNorm((768,), eps=1e-12, elementwise_affine=True)\n",
              "            (dropout): Dropout(p=0.1, inplace=False)\n",
              "          )\n",
              "        )\n",
              "      )\n",
              "    )\n",
              "    (pooler): BertPooler(\n",
              "      (dense): Linear(in_features=768, out_features=768, bias=True)\n",
              "      (activation): Tanh()\n",
              "    )\n",
              "  )\n",
              "  (linear): Linear(in_features=768, out_features=3, bias=True)\n",
              "  (loss_fn): CrossEntropyLoss()\n",
              ")"
            ]
          },
          "metadata": {},
          "execution_count": 35
        }
      ]
    },
    {
      "cell_type": "markdown",
      "source": [
        "# 3. Training"
      ],
      "metadata": {
        "id": "pTuHvSoMoED_"
      }
    },
    {
      "cell_type": "markdown",
      "source": [
        "## 3.1 Build training function"
      ],
      "metadata": {
        "id": "pbk5-Uq3eShd"
      }
    },
    {
      "cell_type": "code",
      "source": [
        "import time\n",
        "import numpy as np\n",
        "from sklearn.metrics import classification_report\n",
        "\n",
        "# Define train function\n",
        "def train_epoch(model, optimizer, train_loader, device):\n",
        "    # Initialize empty variable losses\n",
        "    losses = []\n",
        "    # Get data from each batch\n",
        "    for batch in (train_loader):\n",
        "        # Get ids_tensors, tags_tensors, _, masks_tensors from batch\n",
        "        ids_tensors, tags_tensors, _, masks_tensors = batch\n",
        "        # Put data to device\n",
        "        ids_tensors = ids_tensors.to(device)\n",
        "        tags_tensors = tags_tensors.to(device)\n",
        "        masks_tensors = masks_tensors.to(device)\n",
        "\n",
        "        # Compute loss and outputs\n",
        "        # loss, outputs = model(\n",
        "        #     ids_tensors=ids_tensors,\n",
        "        #     masks_tensors=masks_tensors,\n",
        "        #     tags_tensors=tags_tensors\n",
        "        # )\n",
        "        loss, _ = model(\n",
        "            ids_tensors=ids_tensors,\n",
        "            masks_tensors=masks_tensors,\n",
        "            tags_tensors=tags_tensors\n",
        "        )\n",
        "\n",
        "\n",
        "        # Save the loss\n",
        "        losses.append(loss.item())\n",
        "        # Backward\n",
        "        loss.backward()\n",
        "        # Otimize weight\n",
        "        optimizer.step()\n",
        "        # Update value\n",
        "        optimizer.zero_grad()\n",
        "    # Return average loss\n",
        "    return sum(losses)/len(losses)\n",
        "\n",
        "# Define evaluate function\n",
        "def evaluate_epoch(model, valid_loader, device):\n",
        "    # Initialize empty variable losses\n",
        "    losses = []\n",
        "\n",
        "    # Initialize empty variable predictions (preds) and labels\n",
        "    preds, labels = [], []\n",
        "    # Run with no update weight mode (no grad)\n",
        "    with torch.no_grad():\n",
        "        # Get data from each batch\n",
        "        for batch in (valid_loader):\n",
        "            # Get ids_tensors, tags_tensors, _, masks_tensors from batch\n",
        "            ids_tensors, tags_tensors, _, masks_tensors = batch\n",
        "            # Put data to device\n",
        "            ids_tensors = ids_tensors.to(device)\n",
        "            tags_tensors = tags_tensors.to(device)\n",
        "            masks_tensors = masks_tensors.to(device)\n",
        "\n",
        "            # Compute loss and outputs\n",
        "            loss, outputs = model(\n",
        "                ids_tensors=ids_tensors,\n",
        "                masks_tensors=masks_tensors,\n",
        "                tags_tensors=tags_tensors\n",
        "            )\n",
        "            # Save the loss\n",
        "            losses.append(loss.item())\n",
        "\n",
        "            # Computes the maximum values and their indices along the specified dimension (dim=2), output: (batch, sentence, tokens)\n",
        "            # \"_\" contains the maximum values, \"p\" contains the indices of these maximum values\n",
        "            _, p = torch.max(outputs, dim=2)\n",
        "            # Flattens the indices p and converts it to a list of integers\n",
        "            # Iterates over each element i in p, and then over each element j in i\n",
        "            preds += list([int(j) for i in p for j in i ])\n",
        "            # Flattens the tags_tensors and converts it to a list of integer\n",
        "            labels += list([int(j) for i in tags_tensors for j in i ])\n",
        "\n",
        "    # Element-wise Comparison and compute accuracy (mean)\n",
        "    acc = np.mean(np.array(preds) == np.array(labels))\n",
        "    # Return average losss and acc\n",
        "    return sum(losses)/len(losses), acc\n",
        "\n",
        "# Define train function\n",
        "def train(model, model_name, save_model, optimizer, train_loader, valid_loader, num_epochs, device):\n",
        "    # Initialize empty variable\n",
        "    train_losses = []\n",
        "    eval_accs, eval_losses = [], []\n",
        "    best_loss_eval = 100\n",
        "    times = []\n",
        "\n",
        "    # Get data from each batch\n",
        "    for epoch in range(1, num_epochs+1):\n",
        "        epoch_start_time = time.time()\n",
        "        # Training\n",
        "        train_loss = train_epoch(model, optimizer, train_loader, device)\n",
        "        train_losses.append(train_loss)\n",
        "\n",
        "        # Evaluation\n",
        "        eval_loss, eval_acc = evaluate_epoch(model, valid_loader, device)\n",
        "        eval_accs.append(eval_acc)\n",
        "        eval_losses.append(eval_loss)\n",
        "\n",
        "        # Save best model\n",
        "        if eval_loss < best_loss_eval:\n",
        "            torch.save(model.state_dict(), save_model + f'/{model_name}.pt')\n",
        "\n",
        "        times.append(time.time() - epoch_start_time)\n",
        "        # Print loss, acc end epoch\n",
        "        print(\"-\" * 59)\n",
        "        print(\n",
        "            \"| End of epoch {:3d} | Time: {:5.2f}s | Train Loss {:8.3f} \"\n",
        "            \"| Valid Accuracy {:8.3f} | Valid Loss {:8.3f} \".format(\n",
        "                epoch, time.time() - epoch_start_time, train_loss, eval_acc, eval_loss\n",
        "            )\n",
        "        )\n",
        "        print(\"-\" * 59)\n",
        "\n",
        "    # Load best model\n",
        "    # loads the model state dictionary (i.e., the parameters and buffers of the model)\n",
        "    model.load_state_dict(torch.load(save_model + f'/{model_name}.pt'))\n",
        "    # Setting the Model to Evaluation Mode\n",
        "    model.eval()\n",
        "    # Creating a Metrics Dictionary\n",
        "    metrics = {\n",
        "        'train_loss': train_losses,\n",
        "        'valid_accuracy': eval_accs,\n",
        "        'valid_loss': eval_losses,\n",
        "        'time': times\n",
        "    }\n",
        "    return model, metrics"
      ],
      "metadata": {
        "id": "7YVK29c_FheI"
      },
      "execution_count": null,
      "outputs": []
    },
    {
      "cell_type": "code",
      "source": [
        "# Set optimizer\n",
        "optimizer = torch.optim.AdamW(model.parameters(), lr=1e-5)"
      ],
      "metadata": {
        "id": "_1gnIKSKFTcy"
      },
      "execution_count": null,
      "outputs": []
    },
    {
      "cell_type": "code",
      "source": [
        "# Check train_epoch\n",
        "loss = train_epoch(model, optimizer, train_loader, device)\n",
        "loss"
      ],
      "metadata": {
        "colab": {
          "base_uri": "https://localhost:8080/"
        },
        "id": "0-Snf1ujGegy",
        "outputId": "5378aac9-cd68-4195-c1dc-2df1ebfeb725"
      },
      "execution_count": null,
      "outputs": [
        {
          "output_type": "execute_result",
          "data": {
            "text/plain": [
              "0.2623182161983135"
            ]
          },
          "metadata": {},
          "execution_count": 22
        }
      ]
    },
    {
      "cell_type": "code",
      "source": [
        "# # Check evaluate_epochh\n",
        "loss, acc = evaluate_epoch(model, test_loader, device)\n",
        "loss, acc"
      ],
      "metadata": {
        "colab": {
          "base_uri": "https://localhost:8080/"
        },
        "id": "M6NLnLFHMvFL",
        "outputId": "7f62a59b-af42-49a2-de85-61a77f0e1cef"
      },
      "execution_count": null,
      "outputs": [
        {
          "output_type": "execute_result",
          "data": {
            "text/plain": [
              "(0.22837289316313608, 0.9127831495727324)"
            ]
          },
          "metadata": {},
          "execution_count": 23
        }
      ]
    },
    {
      "cell_type": "markdown",
      "source": [
        "## 3.2 Training"
      ],
      "metadata": {
        "id": "cTa_h-LeOQKs"
      }
    },
    {
      "cell_type": "code",
      "source": [
        "# Create folder model\n",
        "!mkdir \"./model\""
      ],
      "metadata": {
        "id": "ZfzkpCoxPBTK"
      },
      "execution_count": null,
      "outputs": []
    },
    {
      "cell_type": "code",
      "source": [
        "# Set save model\n",
        "save_model = \"./model\"\n",
        "# Set model\n",
        "model = ABTEBert(model_name)\n",
        "# Put model to device\n",
        "device = torch.device(\"cuda\" if torch.cuda.is_available() else \"cpu\")\n",
        "model.to(device)\n",
        "# Set optimizer\n",
        "optimizer = torch.optim.AdamW(model.parameters(), lr=1e-5)\n",
        "# Set number of epochs\n",
        "num_epochs = 5\n",
        "# Train model\n",
        "best_model, metrics = train(\n",
        "    model, model_name, save_model, optimizer, train_loader, test_loader, num_epochs, device\n",
        ")"
      ],
      "metadata": {
        "colab": {
          "base_uri": "https://localhost:8080/"
        },
        "id": "RXUtw_QRNzxm",
        "outputId": "ed12a6c8-cd3b-4ab0-9c88-8bb44add792b"
      },
      "execution_count": null,
      "outputs": [
        {
          "output_type": "stream",
          "name": "stdout",
          "text": [
            "-----------------------------------------------------------\n",
            "| End of epoch   1 | Time: 40.76s | Train Loss    0.261 | Valid Accuracy    0.908 | Valid Loss    0.236 \n",
            "-----------------------------------------------------------\n",
            "-----------------------------------------------------------\n",
            "| End of epoch   2 | Time: 36.48s | Train Loss    0.167 | Valid Accuracy    0.912 | Valid Loss    0.219 \n",
            "-----------------------------------------------------------\n",
            "-----------------------------------------------------------\n",
            "| End of epoch   3 | Time: 37.09s | Train Loss    0.119 | Valid Accuracy    0.918 | Valid Loss    0.226 \n",
            "-----------------------------------------------------------\n",
            "-----------------------------------------------------------\n",
            "| End of epoch   4 | Time: 39.61s | Train Loss    0.077 | Valid Accuracy    0.915 | Valid Loss    0.266 \n",
            "-----------------------------------------------------------\n",
            "-----------------------------------------------------------\n",
            "| End of epoch   5 | Time: 36.83s | Train Loss    0.042 | Valid Accuracy    0.917 | Valid Loss    0.328 \n",
            "-----------------------------------------------------------\n"
          ]
        }
      ]
    },
    {
      "cell_type": "markdown",
      "source": [
        "# 4. Prediction"
      ],
      "metadata": {
        "id": "3zwdUW4UOSZM"
      }
    },
    {
      "cell_type": "code",
      "source": [
        "# Define predict function\n",
        "def predict(best_model, sentence, device):\n",
        "    # Tokenize sentence input\n",
        "    word_pieces = list(tokenizer.tokenize(sentence))\n",
        "    # Convert tokens to ids\n",
        "    input_ids = tokenizer.convert_tokens_to_ids(word_pieces)\n",
        "    # Put input to device\n",
        "    input_tensor = torch.tensor([input_ids]).to(device)\n",
        "\n",
        "    # Predict\n",
        "    with torch.no_grad():\n",
        "        # Compute output (loss, linear output)\n",
        "        outputs = model(input_tensor, None, None)\n",
        "        # compute prediction\n",
        "        _, predictions = torch.max(outputs, dim=2)\n",
        "\n",
        "    # predictions to list\n",
        "    predictions = predictions[0].tolist()\n",
        "    return word_pieces, predictions, outputs"
      ],
      "metadata": {
        "id": "Tjz6fmp7OVAV"
      },
      "execution_count": null,
      "outputs": []
    },
    {
      "cell_type": "code",
      "source": [
        "sentence = \" \".join(test_df.iloc[0][\"Tokens\"].replace(\"'\", \"\").strip(\"][\").split(', '))\n",
        "predict(best_model, sentence, device)"
      ],
      "metadata": {
        "colab": {
          "base_uri": "https://localhost:8080/"
        },
        "id": "89mp_T2dZYcY",
        "outputId": "42e7cebb-e195-4235-d7f1-9241b64a12d2"
      },
      "execution_count": null,
      "outputs": [
        {
          "output_type": "execute_result",
          "data": {
            "text/plain": [
              "(['the', 'bread', 'is', 'top', 'notch', 'as', 'well'],\n",
              " [0, 1, 0, 0, 0, 0, 0],\n",
              " tensor([[[ 6.4141, -2.6148, -2.8782],\n",
              "          [-1.9732,  3.9786, -2.0171],\n",
              "          [ 5.6106, -2.2266, -2.3923],\n",
              "          [ 5.5387, -2.0726, -2.5704],\n",
              "          [ 5.6542, -2.3159, -2.3395],\n",
              "          [ 5.4828, -2.1373, -2.5462],\n",
              "          [ 5.3447, -2.1985, -2.5673]]], device='cuda:0'))"
            ]
          },
          "metadata": {},
          "execution_count": 27
        }
      ]
    }
  ]
}